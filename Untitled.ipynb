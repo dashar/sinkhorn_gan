{
 "cells": [
  {
   "cell_type": "code",
   "execution_count": 1,
   "id": "compressed-seattle",
   "metadata": {},
   "outputs": [],
   "source": [
    "s = 'asdfg'"
   ]
  },
  {
   "cell_type": "code",
   "execution_count": 8,
   "id": "resident-liberty",
   "metadata": {},
   "outputs": [
    {
     "ename": "TypeError",
     "evalue": "'str' object does not support item assignment",
     "output_type": "error",
     "traceback": [
      "\u001b[0;31m---------------------------------------------------------------------------\u001b[0m",
      "\u001b[0;31mTypeError\u001b[0m                                 Traceback (most recent call last)",
      "\u001b[0;32m<ipython-input-8-7671951dc0d1>\u001b[0m in \u001b[0;36m<module>\u001b[0;34m\u001b[0m\n\u001b[0;32m----> 1\u001b[0;31m \u001b[0ms\u001b[0m\u001b[0;34m[\u001b[0m\u001b[0;36m0\u001b[0m\u001b[0;34m]\u001b[0m \u001b[0;34m=\u001b[0m \u001b[0;34m'm'\u001b[0m\u001b[0;34m\u001b[0m\u001b[0;34m\u001b[0m\u001b[0m\n\u001b[0m",
      "\u001b[0;31mTypeError\u001b[0m: 'str' object does not support item assignment"
     ]
    }
   ],
   "source": [
    "s[0] = 'm'"
   ]
  },
  {
   "cell_type": "code",
   "execution_count": 10,
   "id": "smaller-comfort",
   "metadata": {},
   "outputs": [
    {
     "data": {
      "text/plain": [
       "'gfdsa'"
      ]
     },
     "execution_count": 10,
     "metadata": {},
     "output_type": "execute_result"
    }
   ],
   "source": [
    "s[::-1]"
   ]
  },
  {
   "cell_type": "code",
   "execution_count": 15,
   "id": "revised-thong",
   "metadata": {},
   "outputs": [
    {
     "ename": "NameError",
     "evalue": "name 'array' is not defined",
     "output_type": "error",
     "traceback": [
      "\u001b[0;31m---------------------------------------------------------------------------\u001b[0m",
      "\u001b[0;31mNameError\u001b[0m                                 Traceback (most recent call last)",
      "\u001b[0;32m<ipython-input-15-dfc9abecdd81>\u001b[0m in \u001b[0;36m<module>\u001b[0;34m\u001b[0m\n\u001b[1;32m     64\u001b[0m \u001b[0;34m\u001b[0m\u001b[0m\n\u001b[1;32m     65\u001b[0m \u001b[0;34m\u001b[0m\u001b[0m\n\u001b[0;32m---> 66\u001b[0;31m \u001b[0ms\u001b[0m \u001b[0;34m=\u001b[0m \u001b[0mget_array\u001b[0m\u001b[0;34m(\u001b[0m\u001b[0;34m'Hello World!'\u001b[0m\u001b[0;34m)\u001b[0m\u001b[0;34m\u001b[0m\u001b[0;34m\u001b[0m\u001b[0m\n\u001b[0m\u001b[1;32m     67\u001b[0m \u001b[0mprint_array\u001b[0m\u001b[0;34m(\u001b[0m\u001b[0ms\u001b[0m\u001b[0;34m)\u001b[0m\u001b[0;34m\u001b[0m\u001b[0;34m\u001b[0m\u001b[0m\n\u001b[1;32m     68\u001b[0m \u001b[0mreverse_words\u001b[0m\u001b[0;34m(\u001b[0m\u001b[0ms\u001b[0m\u001b[0;34m)\u001b[0m\u001b[0;34m\u001b[0m\u001b[0;34m\u001b[0m\u001b[0m\n",
      "\u001b[0;32m<ipython-input-15-dfc9abecdd81>\u001b[0m in \u001b[0;36mget_array\u001b[0;34m(t)\u001b[0m\n\u001b[1;32m     52\u001b[0m \u001b[0;34m\u001b[0m\u001b[0m\n\u001b[1;32m     53\u001b[0m \u001b[0;32mdef\u001b[0m \u001b[0mget_array\u001b[0m\u001b[0;34m(\u001b[0m\u001b[0mt\u001b[0m\u001b[0;34m)\u001b[0m\u001b[0;34m:\u001b[0m\u001b[0;34m\u001b[0m\u001b[0;34m\u001b[0m\u001b[0m\n\u001b[0;32m---> 54\u001b[0;31m   \u001b[0ms\u001b[0m \u001b[0;34m=\u001b[0m \u001b[0marray\u001b[0m\u001b[0;34m(\u001b[0m\u001b[0;34m'u'\u001b[0m\u001b[0;34m,\u001b[0m \u001b[0mt\u001b[0m\u001b[0;34m)\u001b[0m\u001b[0;34m\u001b[0m\u001b[0;34m\u001b[0m\u001b[0m\n\u001b[0m\u001b[1;32m     55\u001b[0m   \u001b[0;32mreturn\u001b[0m \u001b[0ms\u001b[0m\u001b[0;34m\u001b[0m\u001b[0;34m\u001b[0m\u001b[0m\n\u001b[1;32m     56\u001b[0m \u001b[0;34m\u001b[0m\u001b[0m\n",
      "\u001b[0;31mNameError\u001b[0m: name 'array' is not defined"
     ]
    }
   ],
   "source": [
    "def str_rev(str, start, end):\n",
    "  if str == None or len(str) < 2:\n",
    "    return\n",
    "\n",
    "  while start < end:\n",
    "    temp = str[start]\n",
    "    str[start] = str[end]\n",
    "    str[end] = temp\n",
    "\n",
    "    start += 1\n",
    "    end -= 1\n",
    "\n",
    "\n",
    "def reverse_words(sentence):\n",
    "\n",
    "  # Here sentence is a null-terminated string ending with char '\\0'.\n",
    "\n",
    "  if sentence == None or len(sentence) == 0:\n",
    "    return\n",
    "\n",
    "  #  To reverse all words in the string, we will first reverse\n",
    "  #  the string. Now all the words are in the desired location, but\n",
    "  #  in reverse order: \"Hello World\" -> \"dlroW olleH\".\n",
    "\n",
    "  str_len = len(sentence)\n",
    "  str_rev(sentence, 0, str_len - 2)\n",
    "\n",
    "  # Now, let's iterate the sentence and reverse each word in place.\n",
    "  # \"dlroW olleH\" -> \"World Hello\"\n",
    "\n",
    "  start = 0\n",
    "  end = 0\n",
    "\n",
    "  while True:\n",
    "\n",
    "  # find the  start index of a word while skipping spaces.\n",
    "    while start < len(sentence) and sentence[start] == ' ':\n",
    "      start += 1\n",
    "\n",
    "    if start == str_len:\n",
    "      break\n",
    "\n",
    "  # find the end index of the word.\n",
    "    end = start + 1\n",
    "    while end < str_len and sentence[end] != ' ':\n",
    "      end += 1\n",
    "\n",
    "  # let's reverse the word in-place.\n",
    "    str_rev(sentence, start, end - 1)\n",
    "    start = end\n",
    "\n",
    "\n",
    "def get_array(t):\n",
    "  s = array('u', t)\n",
    "  return s\n",
    "\n",
    "\n",
    "def print_array(s):\n",
    "  i = 0\n",
    "  while i != len(s):\n",
    "    stdout.write(s[i])\n",
    "    i += 1\n",
    "  print ()\n",
    "\n",
    "\n",
    "s = get_array('Hello World!')\n",
    "print_array(s)\n",
    "reverse_words(s)\n",
    "print_array(s)"
   ]
  },
  {
   "cell_type": "code",
   "execution_count": 45,
   "id": "controversial-shareware",
   "metadata": {},
   "outputs": [],
   "source": [
    "import pandas as pd"
   ]
  },
  {
   "cell_type": "code",
   "execution_count": 46,
   "id": "better-brooklyn",
   "metadata": {},
   "outputs": [],
   "source": [
    "with open('./census.csv', 'r') as f:\n",
    "        out = pd.read_csv(f, names = ['age','sex','education','native-country','race','marital-status',\n",
    "                                          'workclass','occupation','hours-per-week','income','capital-gain',\n",
    "                                          'capital-loss'])"
   ]
  },
  {
   "cell_type": "code",
   "execution_count": 48,
   "id": "plastic-shell",
   "metadata": {},
   "outputs": [],
   "source": [
    "df0 = out.loc[:10,['capital-gain','capital-loss']]"
   ]
  },
  {
   "cell_type": "code",
   "execution_count": 49,
   "id": "surprised-survival",
   "metadata": {},
   "outputs": [
    {
     "data": {
      "text/html": [
       "<div>\n",
       "<style scoped>\n",
       "    .dataframe tbody tr th:only-of-type {\n",
       "        vertical-align: middle;\n",
       "    }\n",
       "\n",
       "    .dataframe tbody tr th {\n",
       "        vertical-align: top;\n",
       "    }\n",
       "\n",
       "    .dataframe thead th {\n",
       "        text-align: right;\n",
       "    }\n",
       "</style>\n",
       "<table border=\"1\" class=\"dataframe\">\n",
       "  <thead>\n",
       "    <tr style=\"text-align: right;\">\n",
       "      <th></th>\n",
       "      <th>capital-gain</th>\n",
       "      <th>capital-loss</th>\n",
       "    </tr>\n",
       "  </thead>\n",
       "  <tbody>\n",
       "    <tr>\n",
       "      <th>0</th>\n",
       "      <td>capital-gain=Low</td>\n",
       "      <td>capital-loss=None</td>\n",
       "    </tr>\n",
       "    <tr>\n",
       "      <th>1</th>\n",
       "      <td>capital-gain=None</td>\n",
       "      <td>capital-loss=None</td>\n",
       "    </tr>\n",
       "    <tr>\n",
       "      <th>2</th>\n",
       "      <td>capital-gain=None</td>\n",
       "      <td>capital-loss=None</td>\n",
       "    </tr>\n",
       "    <tr>\n",
       "      <th>3</th>\n",
       "      <td>capital-gain=None</td>\n",
       "      <td>capital-loss=None</td>\n",
       "    </tr>\n",
       "    <tr>\n",
       "      <th>4</th>\n",
       "      <td>capital-gain=None</td>\n",
       "      <td>capital-loss=None</td>\n",
       "    </tr>\n",
       "    <tr>\n",
       "      <th>5</th>\n",
       "      <td>capital-gain=None</td>\n",
       "      <td>capital-loss=None</td>\n",
       "    </tr>\n",
       "    <tr>\n",
       "      <th>6</th>\n",
       "      <td>capital-gain=None</td>\n",
       "      <td>capital-loss=None</td>\n",
       "    </tr>\n",
       "    <tr>\n",
       "      <th>7</th>\n",
       "      <td>capital-gain=None</td>\n",
       "      <td>capital-loss=None</td>\n",
       "    </tr>\n",
       "    <tr>\n",
       "      <th>8</th>\n",
       "      <td>capital-gain=High</td>\n",
       "      <td>capital-loss=None</td>\n",
       "    </tr>\n",
       "    <tr>\n",
       "      <th>9</th>\n",
       "      <td>capital-gain=Low</td>\n",
       "      <td>capital-loss=None</td>\n",
       "    </tr>\n",
       "    <tr>\n",
       "      <th>10</th>\n",
       "      <td>capital-gain=None</td>\n",
       "      <td>capital-loss=None</td>\n",
       "    </tr>\n",
       "  </tbody>\n",
       "</table>\n",
       "</div>"
      ],
      "text/plain": [
       "         capital-gain       capital-loss\n",
       "0    capital-gain=Low  capital-loss=None\n",
       "1   capital-gain=None  capital-loss=None\n",
       "2   capital-gain=None  capital-loss=None\n",
       "3   capital-gain=None  capital-loss=None\n",
       "4   capital-gain=None  capital-loss=None\n",
       "5   capital-gain=None  capital-loss=None\n",
       "6   capital-gain=None  capital-loss=None\n",
       "7   capital-gain=None  capital-loss=None\n",
       "8   capital-gain=High  capital-loss=None\n",
       "9    capital-gain=Low  capital-loss=None\n",
       "10  capital-gain=None  capital-loss=None"
      ]
     },
     "execution_count": 49,
     "metadata": {},
     "output_type": "execute_result"
    }
   ],
   "source": [
    "df0"
   ]
  },
  {
   "cell_type": "code",
   "execution_count": 56,
   "id": "proper-economy",
   "metadata": {},
   "outputs": [],
   "source": [
    "df0['capital-gain'] = 'capital-gain=Low'"
   ]
  },
  {
   "cell_type": "code",
   "execution_count": 131,
   "id": "ignored-montgomery",
   "metadata": {},
   "outputs": [],
   "source": [
    "\n",
    "\n"
   ]
  },
  {
   "cell_type": "code",
   "execution_count": 132,
   "id": "shaped-zealand",
   "metadata": {},
   "outputs": [],
   "source": [
    "def arrangingRules(rules):\n",
    "    import pandas as pd\n",
    "    \n",
    "    def count_vals(conditions, data):\n",
    "        conditions = list(set(conditions.split(',')))\n",
    "        #print(conditions)\n",
    "        conditions_keys = list(map(lambda x: x.split('=')[0],conditions))\n",
    "        return sum((data[data[conditions_keys] == conditions]).count(axis = 1) == len(conditions_keys))\n",
    "    \n",
    "    def get_conf(data,rule = '{native-country=United-States,capital-gain=None}=>{capital-loss=None}'):\n",
    "        X, Y = map(lambda s: s[1:-1], rule.split('=>'))\n",
    "        X_count = count_vals(X, data)\n",
    "        XY_count = count_vals(X+','+Y, data)\n",
    "        #print(X_count, XY_count)\n",
    "        return XY_count/X_count\n",
    "    \n",
    "    rule_conf = []\n",
    "    for rule in rules:\n",
    "        rule_conf.append(get_conf(data,rule))\n",
    "    rules, _ = zip(*sorted(zip(rules, rule_conf),key = lambda x: x[1]))\n",
    "    for rule in rules:\n",
    "        print(rule)\n",
    "    return 0"
   ]
  },
  {
   "cell_type": "code",
   "execution_count": 160,
   "id": "raised-today",
   "metadata": {},
   "outputs": [],
   "source": [
    "X, Y = map(lambda s: s[1:-1], rule.split('=>'))\n",
    "#for X\n",
    "conditions = X.split(',')\n",
    "conditions_keys = list(map(lambda x: x.split('=')[0],conditions))\n",
    "data_X = data[data[conditions_keys] == conditions]\n",
    "X_count = sum(data_X.count(axis = 1) == len(conditions_keys))"
   ]
  },
  {
   "cell_type": "code",
   "execution_count": 161,
   "id": "accepting-studio",
   "metadata": {},
   "outputs": [
    {
     "data": {
      "text/plain": [
       "1"
      ]
     },
     "execution_count": 161,
     "metadata": {},
     "output_type": "execute_result"
    }
   ],
   "source": [
    "X_count"
   ]
  },
  {
   "cell_type": "code",
   "execution_count": 164,
   "id": "leading-miami",
   "metadata": {},
   "outputs": [
    {
     "name": "stdout",
     "output_type": "stream",
     "text": [
      "1 1\n"
     ]
    },
    {
     "data": {
      "text/plain": [
       "1.0"
      ]
     },
     "execution_count": 164,
     "metadata": {},
     "output_type": "execute_result"
    }
   ],
   "source": [
    "data_Y = data[data_X.count(axis = 1) == len(conditions_keys)]\n",
    "#for Y\n",
    "conditions = Y.split(',')\n",
    "conditions_keys = list(map(lambda x: x.split('=')[0],conditions))\n",
    "XY_count = sum(data_Y[data_Y[conditions_keys] == conditions].count(axis = 1) == len(conditions_keys))\n",
    "print(X_count, XY_count)\n",
    "XY_count/X_count"
   ]
  },
  {
   "cell_type": "code",
   "execution_count": 178,
   "id": "ranging-impossible",
   "metadata": {},
   "outputs": [],
   "source": [
    "def get_conf(data,rule = '{native-country=United-States,capital-gain=None}=>{capital-loss=None}'):\n",
    "        X, Y = map(lambda s: s[1:-1], rule.split('=>'))\n",
    "        #for X\n",
    "        conditions = X.split(',')\n",
    "        print(conditions)\n",
    "        conditions_keys = list(map(lambda x: x.split('=')[0],conditions))\n",
    "        print(conditions_keys)\n",
    "        data_X = data[data[conditions_keys] == conditions]\n",
    "        X_count = sum(data_X.count(axis = 1) == len(conditions_keys))\n",
    "        data_Y = data[data_X.count(axis = 1) == len(conditions_keys)]\n",
    "        #for Y\n",
    "        conditions = Y.split(',')\n",
    "        conditions_keys = list(map(lambda x: x.split('=')[0],conditions))\n",
    "        XY_count = sum(data_Y[data_Y[conditions_keys] == conditions].count(axis = 1) == len(conditions_keys))\n",
    "        #print(X_count, XY_count)\n",
    "        return XY_count/X_count"
   ]
  },
  {
   "cell_type": "code",
   "execution_count": 196,
   "id": "informational-vaccine",
   "metadata": {},
   "outputs": [],
   "source": [
    "import numpy as np\n",
    "s = '{age=Middle-aged,sex=Male,education=Bachelors,native-country=United-States,race=White,marital-status=Never-married,workclass=State-gov,occupation=Adm-clerical,hours-per-week=Full-time,income=Small,capital-gain=Low,capital-loss=None}'\n",
    "\n",
    "rule = s+'=>' + s\n",
    "\n",
    "rules = [rule for _ in range(100)]"
   ]
  },
  {
   "cell_type": "code",
   "execution_count": 199,
   "id": "prime-mediterranean",
   "metadata": {},
   "outputs": [],
   "source": [
    "X, Y = map(lambda s: s[1:-1], rule.split('=>'))\n",
    "#for X\n",
    "conditions = X.split(',')\n",
    "conditions_keys = list(map(lambda x: x.split('=')[0],conditions))"
   ]
  },
  {
   "cell_type": "code",
   "execution_count": 197,
   "id": "directed-cholesterol",
   "metadata": {},
   "outputs": [],
   "source": [
    "def arrangingRules(rules):\n",
    "    import pandas as pd\n",
    "    with open('./census.csv', 'r') as f:\n",
    "        data = pd.read_csv(f, names = ['age','sex','education','native-country','race','marital-status',\n",
    "                                          'workclass','occupation','hours-per-week','income','capital-gain',\n",
    "                                          'capital-loss'])\n",
    "    \n",
    "    def count_vals(conditions, data):\n",
    "        conditions = conditions.split(',')\n",
    "        #print(conditions)\n",
    "        conditions_keys = list(map(lambda x: x.split('=')[0],conditions))\n",
    "        return sum((data[data[conditions_keys] == conditions]).count(axis = 1) == len(conditions_keys))\n",
    "    \n",
    "    def get_conf(data,rule = '{native-country=United-States,capital-gain=None}=>{capital-loss=None}'):\n",
    "        X, Y = map(lambda s: s[1:-1], rule.split('=>'))\n",
    "        #for X\n",
    "        conditions = X.split(',')\n",
    "        conditions_keys = list(map(lambda x: x.split('=')[0],conditions))\n",
    "        data_X = data[data[conditions_keys] == conditions]\n",
    "        X_count = np.sum(data_X.count(axis = 1) == len(conditions_keys))\n",
    "        data_Y = data[data_X.count(axis = 1) == len(conditions_keys)]\n",
    "        #for Y\n",
    "        conditions = Y.split(',')\n",
    "        conditions_keys = list(map(lambda x: x.split('=')[0],conditions))\n",
    "        XY_count = np.sum(data_Y[data_Y[conditions_keys] == conditions].count(axis = 1) == len(conditions_keys))\n",
    "        #print(X_count, XY_count)\n",
    "        return XY_count/X_count\n",
    "    \n",
    "    rule_conf = []\n",
    "    for rule in rules:\n",
    "        rule_conf.append(get_conf(data,rule))\n",
    "    rules, _ = zip(*sorted(zip(rules, rule_conf),key = lambda x: -x[1]))\n",
    "    return list(rules)"
   ]
  },
  {
   "cell_type": "code",
   "execution_count": 198,
   "id": "hourly-internet",
   "metadata": {},
   "outputs": [
    {
     "name": "stdout",
     "output_type": "stream",
     "text": [
      "CPU times: user 6.09 s, sys: 41.7 ms, total: 6.14 s\n",
      "Wall time: 6.17 s\n"
     ]
    }
   ],
   "source": [
    "%%time\n",
    "rules_arr = arrangingRules(rules)"
   ]
  },
  {
   "cell_type": "code",
   "execution_count": 226,
   "id": "entitled-attachment",
   "metadata": {},
   "outputs": [],
   "source": [
    "c = (data[conditions_keys] == conditions).all(axis = 1)"
   ]
  },
  {
   "cell_type": "code",
   "execution_count": 223,
   "id": "exceptional-tractor",
   "metadata": {},
   "outputs": [
    {
     "name": "stdout",
     "output_type": "stream",
     "text": [
      "CPU times: user 54.8 ms, sys: 2.24 ms, total: 57 ms\n",
      "Wall time: 55.6 ms\n"
     ]
    },
    {
     "data": {
      "text/plain": [
       "1"
      ]
     },
     "execution_count": 223,
     "metadata": {},
     "output_type": "execute_result"
    }
   ],
   "source": [
    "%%time\n",
    "sum((data[conditions_keys] == conditions).all(axis = 1))"
   ]
  },
  {
   "cell_type": "code",
   "execution_count": 224,
   "id": "sharing-locator",
   "metadata": {},
   "outputs": [
    {
     "name": "stdout",
     "output_type": "stream",
     "text": [
      "CPU times: user 71.8 ms, sys: 2.49 ms, total: 74.2 ms\n",
      "Wall time: 73.4 ms\n"
     ]
    },
    {
     "data": {
      "text/plain": [
       "1"
      ]
     },
     "execution_count": 224,
     "metadata": {},
     "output_type": "execute_result"
    }
   ],
   "source": [
    "%%time\n",
    "sum(data[data[conditions_keys] == conditions].count(axis = 1) == len(conditions_keys))"
   ]
  },
  {
   "cell_type": "code",
   "execution_count": 229,
   "id": "spare-comparison",
   "metadata": {},
   "outputs": [
    {
     "name": "stdout",
     "output_type": "stream",
     "text": [
      "CPU times: user 50.6 ms, sys: 2.32 ms, total: 52.9 ms\n",
      "Wall time: 52.2 ms\n"
     ]
    },
    {
     "data": {
      "text/plain": [
       "1"
      ]
     },
     "execution_count": 229,
     "metadata": {},
     "output_type": "execute_result"
    }
   ],
   "source": [
    "%%time\n",
    "sum((data[conditions_keys] == conditions).all(axis = 1) & c)"
   ]
  },
  {
   "cell_type": "code",
   "execution_count": 230,
   "id": "breathing-highlight",
   "metadata": {},
   "outputs": [
    {
     "data": {
      "text/plain": [
       "0         True\n",
       "1        False\n",
       "2        False\n",
       "3        False\n",
       "4        False\n",
       "         ...  \n",
       "30157    False\n",
       "30158    False\n",
       "30159    False\n",
       "30160    False\n",
       "30161    False\n",
       "Length: 30162, dtype: bool"
      ]
     },
     "execution_count": 230,
     "metadata": {},
     "output_type": "execute_result"
    }
   ],
   "source": [
    "(data[conditions_keys] == conditions).all(axis = 1) & c"
   ]
  },
  {
   "cell_type": "code",
   "execution_count": 98,
   "id": "constitutional-trick",
   "metadata": {},
   "outputs": [
    {
     "data": {
      "text/plain": [
       "['capital-gain=None', 'native-country=United-States']"
      ]
     },
     "execution_count": 98,
     "metadata": {},
     "output_type": "execute_result"
    }
   ],
   "source": [
    "list(set(s.split(',')))"
   ]
  },
  {
   "cell_type": "code",
   "execution_count": null,
   "id": "fleet-greece",
   "metadata": {},
   "outputs": [],
   "source": []
  }
 ],
 "metadata": {
  "kernelspec": {
   "display_name": "Python 3",
   "language": "python",
   "name": "python3"
  },
  "language_info": {
   "codemirror_mode": {
    "name": "ipython",
    "version": 3
   },
   "file_extension": ".py",
   "mimetype": "text/x-python",
   "name": "python",
   "nbconvert_exporter": "python",
   "pygments_lexer": "ipython3",
   "version": "3.8.8"
  }
 },
 "nbformat": 4,
 "nbformat_minor": 5
}
