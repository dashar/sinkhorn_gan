{
 "cells": [
  {
   "cell_type": "code",
   "execution_count": 112,
   "id": "strong-sense",
   "metadata": {},
   "outputs": [],
   "source": [
    "import os, sys\n",
    "sys.path.append(os.getcwd())\n",
    "\n",
    "import random\n",
    "import time\n",
    "\n",
    "import matplotlib\n",
    "#matplotlib.use('Agg')\n",
    "import matplotlib.pyplot as plt\n",
    "import numpy as np\n",
    "import pickle as pkl\n",
    "matplotlib.rcParams['text.usetex'] = True"
   ]
  },
  {
   "cell_type": "code",
   "execution_count": 113,
   "id": "freelance-singles",
   "metadata": {},
   "outputs": [],
   "source": [
    "LATENT_DIM = 8\n",
    "ld = str(LATENT_DIM)"
   ]
  },
  {
   "cell_type": "code",
   "execution_count": 114,
   "id": "ordinary-cleveland",
   "metadata": {},
   "outputs": [],
   "source": [
    "accuracy_histories = []\n",
    "legend = []"
   ]
  },
  {
   "cell_type": "code",
   "execution_count": 115,
   "id": "cooked-frontier",
   "metadata": {},
   "outputs": [],
   "source": [
    "from pingouin import multivariate_normality\n",
    "import pandas as pd\n",
    "import numpy as np"
   ]
  },
  {
   "cell_type": "code",
   "execution_count": 116,
   "id": "therapeutic-mistake",
   "metadata": {},
   "outputs": [],
   "source": [
    "normalities = []"
   ]
  },
  {
   "cell_type": "code",
   "execution_count": 117,
   "id": "contained-cooperation",
   "metadata": {},
   "outputs": [],
   "source": [
    "with open('./WGAN_GP_LATENT_DIM_'+ld +'_initialization_he.pkl', 'rb') as f:\n",
    "    res = pkl.load(f)\n",
    "x, y = zip(*list(res['accuracy'].items()))\n",
    "\n",
    "\n",
    "accuracy_histories += [y]\n",
    "legend += ['WGAN-GP']\n",
    "p_values = []\n",
    "for samples in res['sample'].values():\n",
    "    p_values += [multivariate_normality(samples)[1]]\n",
    "normalities.append(p_values)"
   ]
  },
  {
   "cell_type": "code",
   "execution_count": 118,
   "id": "everyday-wisconsin",
   "metadata": {},
   "outputs": [],
   "source": [
    "\n",
    "with open('./WGAN_WC_LATENT_DIM_'+ld +'_initialization_he.pkl', 'rb') as f:\n",
    "    res = pkl.load(f)\n",
    "x, y = zip(*list(res['accuracy'].items()))\n",
    "\n",
    "accuracy_histories += [y]\n",
    "\n",
    "p_values = []\n",
    "for samples in res['sample'].values():\n",
    "    p_values += [multivariate_normality(samples)[1]]\n",
    "legend += ['WGAN-WC']\n",
    "normalities.append(p_values)"
   ]
  },
  {
   "cell_type": "code",
   "execution_count": 119,
   "id": "massive-enterprise",
   "metadata": {},
   "outputs": [],
   "source": [
    "with open('./training_process_dump/P_SINKHORN_LAMBDA_0.5_LATENT_DIM_'+ld +'_initialization_he.pkl', 'rb') as f:\n",
    "    res = pkl.load(f)\n",
    "accuracy_histories += [res[1]]\n",
    "\n",
    "res = res[0]\n",
    "p_values = []\n",
    "for samples in res['sample'].values():\n",
    "    p_values += list(map(lambda x: multivariate_normality(x)[1], samples))\n",
    "normalities.append(p_values)\n",
    "legend += ['P Sinkhorn, $\\lambda=0.5$']"
   ]
  },
  {
   "cell_type": "code",
   "execution_count": 120,
   "id": "worthy-snake",
   "metadata": {},
   "outputs": [],
   "source": [
    "with open('./training_process_dump/P_SINKHORN_LAMBDA_2.0_LATENT_DIM_'+ld +'_initialization_he.pkl', 'rb') as f:\n",
    "    res = pkl.load(f)\n",
    "accuracy_histories += [res[1]]\n",
    "res = res[0]\n",
    "p_values = []\n",
    "for samples in res['sample'].values():\n",
    "    p_values += list(map(lambda x: multivariate_normality(x)[1], samples))\n",
    "normalities.append(p_values)\n",
    "legend += ['P Sinkhorn, $\\lambda=2.0$']"
   ]
  },
  {
   "cell_type": "code",
   "execution_count": 121,
   "id": "responsible-punch",
   "metadata": {},
   "outputs": [
    {
     "data": {
      "text/plain": [
       "(2560, 32)"
      ]
     },
     "execution_count": 121,
     "metadata": {},
     "output_type": "execute_result"
    }
   ],
   "source": [
    "samples[0].shape"
   ]
  },
  {
   "cell_type": "code",
   "execution_count": 122,
   "id": "hollywood-fetish",
   "metadata": {},
   "outputs": [
    {
     "name": "stdout",
     "output_type": "stream",
     "text": [
      "0\n",
      "1\n",
      "2\n",
      "3\n",
      "4\n",
      "5\n",
      "6\n",
      "7\n",
      "8\n",
      "9\n",
      "10\n",
      "11\n",
      "12\n",
      "13\n",
      "14\n",
      "15\n",
      "16\n",
      "17\n",
      "18\n",
      "19\n",
      "20\n",
      "21\n",
      "22\n",
      "23\n",
      "24\n",
      "25\n",
      "26\n",
      "27\n",
      "28\n",
      "29\n",
      "30\n",
      "31\n",
      "32\n",
      "33\n",
      "34\n",
      "35\n",
      "36\n",
      "37\n",
      "38\n",
      "39\n",
      "40\n",
      "41\n",
      "42\n",
      "43\n",
      "44\n",
      "45\n",
      "46\n",
      "47\n",
      "48\n",
      "49\n",
      "50\n",
      "51\n",
      "52\n",
      "53\n",
      "54\n",
      "54\n",
      "54\n",
      "54\n",
      "54\n",
      "54\n",
      "54\n",
      "54\n",
      "54\n",
      "54\n",
      "54\n",
      "54\n",
      "54\n",
      "54\n",
      "54\n",
      "54\n",
      "54\n",
      "54\n",
      "54\n",
      "54\n",
      "54\n",
      "54\n",
      "54\n",
      "54\n",
      "54\n",
      "54\n",
      "54\n",
      "54\n",
      "54\n",
      "54\n",
      "54\n",
      "54\n",
      "54\n",
      "54\n",
      "54\n",
      "54\n",
      "54\n",
      "54\n",
      "54\n",
      "54\n",
      "54\n",
      "54\n",
      "54\n",
      "54\n",
      "54\n",
      "54\n",
      "54\n",
      "54\n",
      "54\n",
      "54\n",
      "54\n",
      "54\n",
      "54\n",
      "54\n",
      "54\n",
      "54\n"
     ]
    }
   ],
   "source": [
    "with open('./training_process_dump/NP_SINKHORN_LAMBDA_0.5_LATENT_DIM_'+ld +'_initialization_he_BATCHSIZE1024.pkl', 'rb') as f:\n",
    "    res = pkl.load(f)\n",
    "accuracy_histories += [res[1]]\n",
    "res = res[0]\n",
    "p_values = []\n",
    "for it in res['sample']:\n",
    "    samples = res['sample'][it]\n",
    "    f = lambda x: multivariate_normality(x)[1]\n",
    "    for sample in samples:\n",
    "        while sample.shape[0]>254:\n",
    "            p_values += [f(sample)]\n",
    "            sample = sample[254:]\n",
    "        p_values += [f(sample)]\n",
    "        sample = sample[254:]\n",
    "    print(it)\n",
    "normalities.append(p_values)\n",
    "legend += ['NP Sinkhorn, $\\lambda=0.5$']\n",
    "with open('./training_process_dump/NP_SINKHORN_LAMBDA_2.0_LATENT_DIM_'+ld +'_initialization_he_BATCHSIZE1024.pkl', 'rb') as f:\n",
    "    res = pkl.load(f)\n",
    "accuracy_histories += [res[1]]\n",
    "res = res[0]\n",
    "p_values = []\n",
    "for samples in res['sample'].values():\n",
    "    f = lambda x: multivariate_normality(x)[1]\n",
    "    for sample in samples:\n",
    "        while sample.shape[0]>254:\n",
    "            p_values += [f(sample)]\n",
    "            sample = sample[254:]\n",
    "        p_values += [f(sample)]\n",
    "        sample = sample[254:]\n",
    "    print(it)\n",
    "normalities.append(p_values)\n",
    "legend += ['NP Sinkhorn, $\\lambda=2.0$']"
   ]
  },
  {
   "cell_type": "code",
   "execution_count": 139,
   "id": "stunning-measure",
   "metadata": {},
   "outputs": [
    {
     "name": "stdout",
     "output_type": "stream",
     "text": [
      "54\n",
      "54\n",
      "54\n",
      "54\n",
      "54\n",
      "54\n",
      "54\n",
      "54\n",
      "54\n",
      "54\n",
      "54\n",
      "54\n",
      "54\n",
      "54\n",
      "54\n",
      "54\n",
      "54\n",
      "54\n",
      "54\n",
      "54\n",
      "54\n",
      "54\n",
      "54\n",
      "54\n",
      "54\n",
      "54\n",
      "54\n",
      "54\n",
      "54\n",
      "54\n",
      "54\n",
      "54\n",
      "54\n",
      "54\n",
      "54\n",
      "54\n",
      "54\n",
      "54\n",
      "54\n",
      "54\n",
      "54\n",
      "54\n",
      "54\n",
      "54\n",
      "54\n",
      "54\n",
      "54\n",
      "54\n",
      "54\n",
      "54\n",
      "54\n",
      "54\n",
      "54\n",
      "54\n",
      "54\n"
     ]
    }
   ],
   "source": [
    "with open('/Users/dasha/Dropbox/Discussion notes Ayfer, Xiugang, Daria/GAN_code/training_process_dump/NP_SINKHORN_LAMBDA_2.0_LATENT_DIM_'+ld +'_initialization_he_BATCHSIZE1024.pkl', 'rb') as f:\n",
    "    res = pkl.load(f)\n",
    "accuracy_histories += [res[1]]\n",
    "res = res[0]\n",
    "p_values = []\n",
    "for samples in res['sample'].values():\n",
    "    f = lambda x: multivariate_normality(x)[1]\n",
    "    for sample in samples:\n",
    "        while sample.shape[0]>254:\n",
    "            p_values += [f(sample)]\n",
    "            sample = sample[254:]\n",
    "        p_values += [f(sample)]\n",
    "        sample = sample[254:]\n",
    "    print(it)\n",
    "normalities.append(p_values)"
   ]
  },
  {
   "cell_type": "code",
   "execution_count": 123,
   "id": "included-import",
   "metadata": {},
   "outputs": [],
   "source": [
    "matplotlib.rcParams['font.family'] = 'Avenir'\n",
    "plt.rcParams['font.size'] = 18\n",
    "plt.rcParams['axes.linewidth'] = 2"
   ]
  },
  {
   "cell_type": "code",
   "execution_count": 86,
   "id": "fitting-click",
   "metadata": {},
   "outputs": [],
   "source": [
    "#legend = ['WGAN-GP', 'WGAN-WC', 'P Sinkhorn, $\\lambda = 0.5$', 'P Sinkhorn, $\\lambda = 2.0$', 'NP Sinkhorn, $\\lambda = 0.5$', 'NP Sinkhorn, $\\lambda = 2.0$']"
   ]
  },
  {
   "cell_type": "code",
   "execution_count": 160,
   "id": "suffering-habitat",
   "metadata": {},
   "outputs": [],
   "source": [
    "normality = normalities[-1]"
   ]
  },
  {
   "cell_type": "code",
   "execution_count": 145,
   "id": "opposite-commitment",
   "metadata": {},
   "outputs": [],
   "source": [
    "mult=4"
   ]
  },
  {
   "cell_type": "code",
   "execution_count": 158,
   "id": "surprised-header",
   "metadata": {},
   "outputs": [
    {
     "data": {
      "text/plain": [
       "250"
      ]
     },
     "execution_count": 158,
     "metadata": {},
     "output_type": "execute_result"
    }
   ],
   "source": [
    "len(np.arange(idx,iteration,step*mult))"
   ]
  },
  {
   "cell_type": "code",
   "execution_count": 164,
   "id": "derived-blank",
   "metadata": {},
   "outputs": [],
   "source": [
    "del normalities[-2]"
   ]
  },
  {
   "cell_type": "code",
   "execution_count": 168,
   "id": "double-district",
   "metadata": {},
   "outputs": [
    {
     "name": "stdout",
     "output_type": "stream",
     "text": [
      "0 20000\n",
      "0 20000\n",
      "1 20000\n",
      "1 20000\n",
      "2 21505\n",
      "2 20000\n",
      "3 21505\n",
      "3 20000\n",
      "4 26840\n",
      "4 20000\n",
      "5 26840\n",
      "5 20000\n"
     ]
    },
    {
     "data": {
      "text/plain": [
       "<Figure size 432x288 with 0 Axes>"
      ]
     },
     "metadata": {},
     "output_type": "display_data"
    },
    {
     "data": {
      "image/png": "[encoded data removed]",
      "text/plain": [
       "<Figure size 720x432 with 1 Axes>"
      ]
     },
     "metadata": {
      "needs_background": "light"
     },
     "output_type": "display_data"
    }
   ],
   "source": [
    "plt.clf()\n",
    "step =1\n",
    "plt.figure(figsize=(10,6))\n",
    "plt.grid(\"on\", \"both\")\n",
    "iteration = 20000\n",
    "bs_mult = 1\n",
    "idx = 0\n",
    "\n",
    "for i, normality in enumerate(normalities):\n",
    "    #if i >3:\n",
    "    #    mult = 4\n",
    "    #else:\n",
    "    #    mult = 1\n",
    "    print(i, len(normality))\n",
    "    normality = np.array(normality[:int(np.ceil(iteration/bs_mult))])\n",
    "    print(i, len(normality))\n",
    "    plt.scatter(np.arange(idx,iteration,step*bs_mult), normality[idx::int(np.ceil(step/bs_mult))], linewidth=2)\n",
    "\n",
    "plt.legend(legend)\n",
    "plt.xlabel(\"iteration\")\n",
    "plt.ylabel(\"p-value of mvt\")\n",
    "plt.savefig('final_plot'+ld+'normality.png')\n",
    "plt.show()"
   ]
  },
  {
   "cell_type": "code",
   "execution_count": 107,
   "id": "continuing-humor",
   "metadata": {},
   "outputs": [],
   "source": [
    "new_normalities = normalities[:4] + normalities[-2:]"
   ]
  },
  {
   "cell_type": "code",
   "execution_count": 108,
   "id": "computational-split",
   "metadata": {},
   "outputs": [
    {
     "data": {
      "text/plain": [
       "6"
      ]
     },
     "execution_count": 108,
     "metadata": {},
     "output_type": "execute_result"
    }
   ],
   "source": [
    "len(new_normalities)"
   ]
  },
  {
   "cell_type": "code",
   "execution_count": 109,
   "id": "regulated-verse",
   "metadata": {},
   "outputs": [],
   "source": [
    "tmp = normalities\n",
    "normalities = new_normalities"
   ]
  },
  {
   "cell_type": "code",
   "execution_count": 111,
   "id": "original-merchandise",
   "metadata": {},
   "outputs": [
    {
     "data": {
      "text/plain": [
       "array([0.00000000e+000, 1.12153016e-310, 1.90328923e-310, 3.62223332e-309,\n",
       "       4.31336919e-308, 1.05075206e-307, 1.54087603e-306, 7.18251068e-306,\n",
       "       5.84213283e-305, 6.01416617e-305, 1.50151448e-304, 1.35490825e-303,\n",
       "       1.77261102e-303, 6.82059001e-301, 2.96504395e-300, 3.20574506e-299,\n",
       "       7.39744395e-299, 1.01144850e-296, 6.33980420e-295, 1.46024642e-294,\n",
       "       4.19419758e-294, 1.99243752e-293, 2.46343246e-292, 3.99536011e-292,\n",
       "       4.79758503e-292, 1.05263399e-291, 3.77431258e-291, 2.64090972e-290,\n",
       "       2.65217663e-289, 1.58659925e-288, 1.87245778e-287, 2.45868947e-287,\n",
       "       3.96821672e-287, 4.74618949e-287, 4.32569889e-286, 5.05945108e-286,\n",
       "       9.52703331e-286, 2.35103272e-284, 7.02433820e-284, 8.88179430e-284,\n",
       "       1.67997391e-283, 1.77829390e-283, 2.02042005e-282, 3.72824918e-282,\n",
       "       1.03829985e-281, 1.40958463e-281, 1.53347477e-281, 4.10970210e-281,\n",
       "       4.56607935e-281, 6.24195016e-278, 6.64383380e-278, 9.32192450e-278,\n",
       "       1.93707548e-277, 9.36304198e-277, 1.59197712e-276, 7.20368179e-275,\n",
       "       1.74819161e-274, 4.52833390e-274, 9.47864247e-274, 4.37119344e-273,\n",
       "       7.62396179e-273, 1.50120389e-270, 2.53927218e-270, 3.18818924e-270,\n",
       "       3.22155530e-269, 3.63080200e-269, 3.74984292e-269, 4.29022179e-269,\n",
       "       5.52038714e-269, 1.11262167e-268, 2.28379392e-268, 1.07932132e-267,\n",
       "       1.80533972e-266, 5.78164903e-265, 1.59822785e-263, 8.90843639e-262,\n",
       "       2.37370050e-261, 3.51018367e-261, 8.22271618e-261, 1.51805836e-260,\n",
       "       2.63970245e-260, 9.81703312e-260, 5.47855850e-259, 7.71141379e-259,\n",
       "       1.07614070e-258, 1.22876359e-258, 3.48332933e-258, 4.00567037e-258,\n",
       "       9.38870906e-258, 9.41552391e-258, 2.99637278e-256, 1.18372229e-255,\n",
       "       6.24965568e-253, 1.11853090e-252, 2.47308925e-252, 3.28132867e-251,\n",
       "       3.36469859e-251, 1.62116910e-250, 7.25075598e-250, 1.22830774e-248,\n",
       "       1.32258933e-244, 4.31542708e-244, 4.58024216e-244, 2.66949578e-243,\n",
       "       2.83616519e-243, 8.97295041e-243, 7.58518072e-241, 1.27340311e-239,\n",
       "       6.96955234e-238, 7.19206392e-235, 8.53598457e-233, 5.87789854e-231,\n",
       "       1.41262746e-230, 1.68521044e-230, 3.72561949e-230, 5.41953130e-230,\n",
       "       1.04727773e-228, 6.43814679e-228, 2.44547436e-226, 2.09361887e-225,\n",
       "       1.35239608e-223, 6.71772944e-223, 1.02867387e-222, 4.64873324e-221,\n",
       "       8.15984123e-220, 1.12818064e-218, 1.15304013e-217, 1.17240694e-217,\n",
       "       1.78162268e-217, 3.81196419e-217, 1.26613892e-216, 5.03362930e-214,\n",
       "       1.69125827e-212, 2.65547107e-212, 1.20546222e-210, 2.85162456e-208,\n",
       "       2.06216584e-207, 8.27665875e-207, 5.68913556e-203, 2.59853914e-202,\n",
       "       2.76939164e-202, 8.16391169e-202, 9.17162900e-202, 2.31337495e-201,\n",
       "       3.80999697e-201, 4.29934691e-201, 1.26690897e-199, 1.09104594e-198,\n",
       "       6.82190698e-198, 2.21181644e-193, 4.54209686e-191, 4.41602339e-189,\n",
       "       4.89982528e-188, 1.64781026e-187, 1.81818109e-185, 1.84393616e-185,\n",
       "       1.03808223e-182, 3.65242651e-181, 2.45994955e-177, 3.94288047e-177,\n",
       "       2.70556188e-176, 1.39670342e-173, 8.52888688e-170, 4.45680239e-167,\n",
       "       1.36205770e-164, 1.44606776e-163, 5.44994218e-162, 5.02458217e-158,\n",
       "       6.89282487e-155, 2.75910834e-151, 1.54163499e-150, 2.27874910e-150,\n",
       "       4.67787995e-150, 4.70071245e-150, 3.26689167e-147, 4.90613034e-146,\n",
       "       2.81418757e-145, 7.04657853e-142, 1.95600419e-139, 1.32835775e-136,\n",
       "       1.29851430e-134, 6.03658054e-132, 3.50154977e-129, 2.09937575e-128,\n",
       "       5.71887875e-127, 5.55275992e-125, 2.51357840e-119, 4.47433471e-119,\n",
       "       5.97374643e-119, 4.69679343e-111, 1.13283092e-108, 9.40185384e-103,\n",
       "       4.23205495e-102, 5.47753825e-102, 5.24444909e-099, 4.60178373e-096,\n",
       "       5.26482334e-070, 1.05767494e-069, 6.53212535e-061, 2.85343232e-049,\n",
       "       1.44556881e-047, 9.39959023e-041, 3.08102375e-035, 6.12294157e-016])"
      ]
     },
     "execution_count": 111,
     "metadata": {},
     "output_type": "execute_result"
    }
   ],
   "source": [
    "np.unique(normalities[3])"
   ]
  },
  {
   "cell_type": "code",
   "execution_count": null,
   "id": "charming-theater",
   "metadata": {},
   "outputs": [],
   "source": [
    "print(1)"
   ]
  },
  {
   "cell_type": "code",
   "execution_count": 138,
   "id": "female-treasure",
   "metadata": {},
   "outputs": [
    {
     "name": "stdout",
     "output_type": "stream",
     "text": [
      "0\n",
      "1\n",
      "2\n",
      "3\n",
      "4\n",
      "5\n"
     ]
    },
    {
     "data": {
      "image/png": "[encoded data removed]",
      "text/plain": [
       "<Figure size 720x432 with 1 Axes>"
      ]
     },
     "metadata": {
      "needs_background": "light"
     },
     "output_type": "display_data"
    }
   ],
   "source": [
    "plt.figure(figsize=(10,6))\n",
    "plt.grid(\"on\", \"both\")\n",
    "iteration = 20000\n",
    "bs_mult = 1\n",
    "for i, accuracy_history in enumerate(accuracy_histories):\n",
    "    bs_mult = 4 if i > 3 else 1\n",
    "    step = 50 * bs_mult\n",
    "    print(i)\n",
    "    if i < 2:\n",
    "        accuracy_history = np.array(accuracy_history)[:iteration]\n",
    "        idx = np.max(np.where(accuracy_history > 3.5))+1\n",
    "        plt.plot(np.arange(idx,iteration,step), accuracy_history[idx::step], linewidth=2)\n",
    "    else:\n",
    "        accuracy_history = np.array(accuracy_history[:int(iteration/step)])\n",
    "        idx = np.max(np.where(accuracy_history > 3.5))+1\n",
    "        plt.plot(np.arange(idx*step,iteration,step), accuracy_history[idx:], linewidth=2)\n",
    "\n",
    "plt.plot(np.arange(iteration+1), np.ones(iteration+1)*np.linalg.norm(true_cov - opt_cov))\n",
    "plt.plot(np.arange(iteration+1), np.zeros(iteration+1))\n",
    "plt.legend(legend + ['optimal covariance difference'])\n",
    "plt.xlabel(\"iteration\")\n",
    "plt.ylabel(\"covariance difference\")\n",
    "plt.savefig('final_plot'+ld+'.png')\n",
    "plt.show()\n",
    "    "
   ]
  },
  {
   "cell_type": "code",
   "execution_count": 131,
   "id": "plastic-rotation",
   "metadata": {},
   "outputs": [
    {
     "name": "stdout",
     "output_type": "stream",
     "text": [
      "20000\n",
      "20000\n",
      "440\n",
      "440\n",
      "440\n",
      "440\n"
     ]
    }
   ],
   "source": [
    "for i in range(len(accuracy_histories)):\n",
    "    print(len(accuracy_histories[i]))"
   ]
  },
  {
   "cell_type": "code",
   "execution_count": 134,
   "id": "concrete-musician",
   "metadata": {},
   "outputs": [],
   "source": [
    "DATA_DIM = 32\n",
    "true_cov = np.eye(DATA_DIM)/np.sqrt(np.sqrt(DATA_DIM))"
   ]
  },
  {
   "cell_type": "code",
   "execution_count": 136,
   "id": "virgin-voluntary",
   "metadata": {},
   "outputs": [],
   "source": [
    "opt_cov = np.copy(true_cov)\n",
    "opt_cov[LATENT_DIM:] = 0"
   ]
  },
  {
   "cell_type": "code",
   "execution_count": 171,
   "id": "painted-cotton",
   "metadata": {},
   "outputs": [],
   "source": [
    "Y = np.random.randn(256, 32)"
   ]
  },
  {
   "cell_type": "code",
   "execution_count": 172,
   "id": "controlling-white",
   "metadata": {},
   "outputs": [
    {
     "data": {
      "text/plain": [
       "HZResults(hz=0.999999200841742, pval=0.37217942968575457, normal=True)"
      ]
     },
     "execution_count": 172,
     "metadata": {},
     "output_type": "execute_result"
    }
   ],
   "source": [
    "multivariate_normality(Y)"
   ]
  },
  {
   "cell_type": "code",
   "execution_count": null,
   "id": "vocational-norwegian",
   "metadata": {},
   "outputs": [],
   "source": []
  }
 ],
 "metadata": {
  "kernelspec": {
   "display_name": "Python 3",
   "language": "python",
   "name": "python3"
  },
  "language_info": {
   "codemirror_mode": {
    "name": "ipython",
    "version": 3
   },
   "file_extension": ".py",
   "mimetype": "text/x-python",
   "name": "python",
   "nbconvert_exporter": "python",
   "pygments_lexer": "ipython3",
   "version": "3.8.8"
  }
 },
 "nbformat": 4,
 "nbformat_minor": 5
}
